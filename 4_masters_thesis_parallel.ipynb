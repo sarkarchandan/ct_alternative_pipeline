{
 "cells": [
  {
   "cell_type": "markdown",
   "metadata": {},
   "source": [
    "# Drawing Parallel with Master's Thesis - WebRTC Prototype"
   ]
  },
  {
   "cell_type": "markdown",
   "metadata": {},
   "source": [
    "- WebRTC specification\n",
    "- Essence of a strong coupling\n",
    "- Essence of distributed nature of the application\n",
    "- Is p2p a viable option for data pipelines"
   ]
  },
  {
   "cell_type": "code",
   "execution_count": null,
   "metadata": {},
   "outputs": [],
   "source": []
  }
 ],
 "metadata": {
  "kernelspec": {
   "display_name": "Python 3.9.13 ('venv')",
   "language": "python",
   "name": "python3"
  },
  "language_info": {
   "name": "python",
   "version": "3.9.13"
  },
  "orig_nbformat": 4,
  "vscode": {
   "interpreter": {
    "hash": "7c7a1ed4cf194c8bf2ce626a609f852d623d22a276aa16f82306b00f9edc5b56"
   }
  }
 },
 "nbformat": 4,
 "nbformat_minor": 2
}
