{
 "cells": [
  {
   "cell_type": "markdown",
   "metadata": {},
   "source": [
    "<img src=\"./res/webrtc.png\">\n",
    "\n",
    "# Prototyping with WebRTC\n",
    "\n",
    " - **[WebRTC](https://developer.mozilla.org/en-US/docs/Web/API/WebRTC_API) - Open Standard - Realtime Communication Voice & Video**\n",
    " \n",
    " ## Key Interfaces\n",
    " - [RTCPeerConnection](https://developer.mozilla.org/en-US/docs/Web/API/RTCPeerConnection)\n",
    " - [RTCSessionDescription](https://developer.mozilla.org/en-US/docs/Web/API/RTCSessionDescription)\n",
    " - [RTCIceCandidate - Interactive Connectivity Establishment](https://developer.mozilla.org/en-US/docs/Web/API/RTCIceCandidate)"
   ]
  },
  {
   "cell_type": "markdown",
   "metadata": {},
   "source": [
    "<div>\n",
    "    <img src=\"./res/ths_setup1.png\" height=400 width=550>\n",
    "    <img src=\"./res/ths_setup2.png\" height=400 width=900>\n",
    "</div>\n",
    "\n",
    "## Emphasis\n",
    "\n",
    "✔ **A distributed architectural prototype in context of IoT application scenarios**\n",
    "\n",
    "✔ **Pub/Sub oriented loosely coupled system**\n",
    "\n",
    "✔ **Container-oriented fast prototyping**\n",
    "\n",
    "✔ **Aspect of Security**\n",
    "\n",
    "🟠 **Efficiency in processing and transmission of video frames**\n",
    "\n",
    "## Constraints\n",
    "\n",
    "- **Initiation of the P2P connection request by the subscriber**\n",
    "\n",
    "- **One way media streams**"
   ]
  },
  {
   "cell_type": "markdown",
   "metadata": {},
   "source": [
    "# Basic Architecture\n",
    "\n",
    "<img src=\"./res/ths_base_arch.png\">\n",
    "\n",
    "### Limitations\n",
    "\n",
    "- **Strong Coupling - Change on one end leads to a change on other**\n",
    "\n",
    "- **Security Concerns**"
   ]
  },
  {
   "cell_type": "markdown",
   "metadata": {},
   "source": [
    "# Revised Architecture - Signalling Server as Mediator\n",
    "\n",
    "<img src=\"./res/ths_revised_arch.png\">"
   ]
  },
  {
   "cell_type": "markdown",
   "metadata": {},
   "source": [
    "<img src=\"./res/ths_seq_diag.png\">\n",
    "\n",
    "#### Subsequent Improvement to the architecture\n",
    "\n",
    "- **Adoption event driven approach for the signalling server**"
   ]
  },
  {
   "cell_type": "markdown",
   "metadata": {},
   "source": [
    "# Orchestration of Containerized Services\n",
    "\n",
    "### Subscriber Side (Browser-based Web Application)\n",
    "```yaml\n",
    "version : ’3’ \n",
    "services :\n",
    "    traefik : \n",
    "        privileged : true\n",
    "        command : \n",
    "            −−api −−docker −−docker.domain=\"docker.localhost\" \n",
    "            −−docker.endpoint=unix:///var/run/docker.sock \\ \n",
    "            −−docker.watch=true −−docker.exposedbydefault=\"false\"\n",
    "        container_name: traefik \n",
    "        image: traefik\n",
    "        volumes :\n",
    "            − /var/run/docker.sock:/var/run/docker.sock \n",
    "        ports :\n",
    "            − 9999:80\n",
    "            − 8080:8080 \n",
    "    signaling :\n",
    "        container_name : signaling \n",
    "        build : ./ signaling\n",
    "        expose :\n",
    "            − 9999 \n",
    "        labels :\n",
    "            − \"traefik.frontend.rule=Host:docker.localhost;PathPrefix:/signaling/ subscribe;\"\n",
    "            − \"traefik.frontend.entryPoints=http\" − \"traefik.port=9999\"\n",
    "            − \"traefik.enable=true\"\n",
    "    subscriber : \n",
    "        container_name : subscriber\n",
    "        build : ./ client \n",
    "        depends_on :\n",
    "            − signaling \n",
    "        expose :\n",
    "            − 9999 \n",
    "        labels :\n",
    "            −\"traefik.frontend.rule=Host:docker.localhost;PathPrefix:/client,/socket.io ,/receive_publisher_answer;\"\n",
    "            − \"traefik.frontend.entryPoints=http\" − \"traefik.port=9999\"\n",
    "            − \"traefik.enable=true\"\n",
    "        command : [ \"./wait-for-it.sh\" , \"signaling:9999\" , \"--\" , \"npm\" , \"start\" ]\n",
    "```\n",
    "\n",
    "### Publisher Side (Raspberry Py 3B with Cam)\n",
    "\n",
    "```yaml\n",
    "version : ’3’ \n",
    "services :\n",
    "    recorder :\n",
    "        container_name : recorder \n",
    "        build : . / recorder \n",
    "        devices :\n",
    "            − /dev/video0:/dev/video0 \n",
    "        volumes :\n",
    "            − record−volume: /record \n",
    "    publisher :\n",
    "        container_name : publisher \n",
    "        build : . / publisher \n",
    "        depends_on:\n",
    "            - recorder\n",
    "        volumes :\n",
    "            − record−volume:/record \n",
    "        ports :\n",
    "            − 8888:8888\n",
    "        command : [ \"python\" , \"/usr/src/publisher.py\" , \"--port\" , \"8888\" , \"-v\" ]\n",
    "volumes : \n",
    "    record−volume :\n",
    "```"
   ]
  },
  {
   "cell_type": "markdown",
   "metadata": {},
   "source": [
    "### Consideration\n",
    "\n",
    "- Is event streaming a viable option for high performance data processing pipeline ?\n",
    "- Is p2p communication is a viable approach for high performance data processing pipeline ?\n"
   ]
  },
  {
   "cell_type": "code",
   "execution_count": null,
   "metadata": {},
   "outputs": [],
   "source": []
  }
 ],
 "metadata": {
  "kernelspec": {
   "display_name": "Python 3.9.13 ('venv')",
   "language": "python",
   "name": "python3"
  },
  "language_info": {
   "name": "python",
   "version": "3.9.13"
  },
  "orig_nbformat": 4,
  "vscode": {
   "interpreter": {
    "hash": "7c7a1ed4cf194c8bf2ce626a609f852d623d22a276aa16f82306b00f9edc5b56"
   }
  }
 },
 "nbformat": 4,
 "nbformat_minor": 2
}
