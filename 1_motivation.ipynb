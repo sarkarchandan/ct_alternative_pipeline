{
 "cells": [
  {
   "cell_type": "markdown",
   "metadata": {},
   "source": [
    "# Motivation"
   ]
  },
  {
   "cell_type": "markdown",
   "metadata": {},
   "source": [
    "- Refer to Papers\n",
    "- Fourier Analysis on image as a discrete signal\n",
    "- Connection among concepts"
   ]
  },
  {
   "cell_type": "code",
   "execution_count": null,
   "metadata": {},
   "outputs": [],
   "source": []
  }
 ],
 "metadata": {
  "kernelspec": {
   "display_name": "Python 3.9.13 ('venv')",
   "language": "python",
   "name": "python3"
  },
  "language_info": {
   "name": "python",
   "version": "3.9.13"
  },
  "orig_nbformat": 4,
  "vscode": {
   "interpreter": {
    "hash": "7c7a1ed4cf194c8bf2ce626a609f852d623d22a276aa16f82306b00f9edc5b56"
   }
  }
 },
 "nbformat": 4,
 "nbformat_minor": 2
}
