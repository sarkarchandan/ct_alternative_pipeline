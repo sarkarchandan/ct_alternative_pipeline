{
 "cells": [
  {
   "cell_type": "markdown",
   "metadata": {},
   "source": [
    "# Pipeline - Producer & Reconstructor"
   ]
  },
  {
   "cell_type": "markdown",
   "metadata": {},
   "source": [
    "<div>\n",
    "    <img src=\"./res/app_arch.jpeg\">\n",
    "</div>"
   ]
  },
  {
   "cell_type": "markdown",
   "metadata": {},
   "source": [
    "# Apache Kafka\n",
    "\n",
    "- **Event Streaming - Continuous flow of serialized data streams - Topics, Replication, Partition**\n",
    "\n",
    "- **Enabler of data platforms and Microservices Architecture**\n",
    "\n",
    "- **Publish/Subscribe - Persistent Storage - Realtime/Retrospective Event Processing**\n",
    "\n",
    "- **Native or Containerized Deployment**\n",
    "\n",
    "- **ZooKeeper: Cluster Configuration Management, Naming Service, Synchronization, Leader Election**\n",
    "\n",
    "# Topic & Event\n",
    "\n",
    "<div>\n",
    "    <img src=\"./res/kafka_topic.png\" height=300 width=600>\n",
    "    <img src=\"./res/kafka_prod_con.png\" height=300 width=800>\n",
    "</div>\n",
    "<a href=\"https://kafka.apache.org/documentation/#intro_concepts_and_terms\">Ref: Apache Kafka Official Docs</a><br>\n",
    "<a href=\"https://www.cloudkarafka.com/blog/part1-kafka-for-beginners-what-is-apache-kafka.html\">Ref: cloudkarafka article</a>\n",
    "\n",
    "## Event in a NutShell\n",
    "\n",
    "```yaml\n",
    "Event:\n",
    "    metadata_header:\n",
    "    key:\n",
    "    value:\n",
    "    timestamp:\n",
    "```"
   ]
  },
  {
   "cell_type": "markdown",
   "metadata": {},
   "source": [
    "# Demo & Retrospective\n",
    "\n",
    "### Single Kafka Server Configuration\n",
    "```yaml\n",
    "version: '2'\n",
    "services:\n",
    "\n",
    "  zookeeper:\n",
    "    image: wurstmeister/zookeeper:3.4.6\n",
    "    ports:\n",
    "     - \"2181:2181\"\n",
    "\n",
    "  kafka:\n",
    "    image: wurstmeister/kafka\n",
    "    ports:\n",
    "     - \"9092:9092\"\n",
    "    expose:\n",
    "     - \"9093\"\n",
    "    environment:\n",
    "      KAFKA_ADVERTISED_LISTENERS: INSIDE://kafka:9093,OUTSIDE://localhost:9092\n",
    "      KAFKA_LISTENER_SECURITY_PROTOCOL_MAP: INSIDE:PLAINTEXT,OUTSIDE:PLAINTEXT\n",
    "      KAFKA_LISTENERS: INSIDE://0.0.0.0:9093,OUTSIDE://0.0.0.0:9092\n",
    "      KAFKA_INTER_BROKER_LISTENER_NAME: INSIDE\n",
    "      KAFKA_ZOOKEEPER_CONNECT: zookeeper:2181\n",
    "      KAFKA_CREATE_TOPICS: \"image_data:1:1\"\n",
    "    volumes:\n",
    "     - /var/run/docker.sock:/var/run/docker.sock\n",
    "```\n",
    "\n",
    "- **Limitation - Potential of parallel processing of data instead of serial processing exploiting timestamp**\n",
    "\n",
    "- **Relevant Examples from Kafka EcoSystem**\n",
    "    - [librdkafka](https://github.com/confluentinc/librdkafka) - C/C++ implementation for Kafka Specification\n",
    "    - [TensorFlowIO](https://github.com/tensorflow/io) - Plugin for Integration with TensorFlow\n",
    "\n",
    "  "
   ]
  },
  {
   "cell_type": "code",
   "execution_count": null,
   "metadata": {},
   "outputs": [],
   "source": []
  }
 ],
 "metadata": {
  "kernelspec": {
   "display_name": "Python 3.9.13 ('venv')",
   "language": "python",
   "name": "python3"
  },
  "language_info": {
   "name": "python",
   "version": "3.9.13"
  },
  "orig_nbformat": 4,
  "vscode": {
   "interpreter": {
    "hash": "7c7a1ed4cf194c8bf2ce626a609f852d623d22a276aa16f82306b00f9edc5b56"
   }
  }
 },
 "nbformat": 4,
 "nbformat_minor": 2
}
